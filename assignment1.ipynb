{
 "cells": [
  {
   "cell_type": "markdown",
   "id": "4de2d6bc-b081-4716-802b-b24296169242",
   "metadata": {},
   "source": [
    "Q1. Explain with an example each when to use a for loop and a while loop."
   ]
  },
  {
   "cell_type": "code",
   "execution_count": 12,
   "id": "97254952-20f7-4087-bac6-b60023c33e14",
   "metadata": {},
   "outputs": [
    {
     "name": "stdout",
     "output_type": "stream",
     "text": [
      "1\n",
      "2\n",
      "3\n",
      "4\n",
      "5\n",
      "6\n",
      "7\n",
      "8\n",
      "9\n"
     ]
    }
   ],
   "source": [
    "# In most of the cases when we know the number of iterations, we use for loop.\n",
    "for i in range(1, 10):\n",
    "    print(i)"
   ]
  },
  {
   "cell_type": "code",
   "execution_count": 1,
   "id": "7302bcd4-2e36-4daa-a2b1-4f9156a0aa0b",
   "metadata": {},
   "outputs": [
    {
     "name": "stdin",
     "output_type": "stream",
     "text": [
      "Enter a number 1\n"
     ]
    },
    {
     "name": "stdout",
     "output_type": "stream",
     "text": [
      "Enter any number or 0 to exit\n"
     ]
    },
    {
     "name": "stdin",
     "output_type": "stream",
     "text": [
      "Enter a number 2\n"
     ]
    },
    {
     "name": "stdout",
     "output_type": "stream",
     "text": [
      "Enter any number or 0 to exit\n"
     ]
    },
    {
     "name": "stdin",
     "output_type": "stream",
     "text": [
      "Enter a number 3\n"
     ]
    },
    {
     "name": "stdout",
     "output_type": "stream",
     "text": [
      "Enter any number or 0 to exit\n"
     ]
    },
    {
     "name": "stdin",
     "output_type": "stream",
     "text": [
      "Enter a number 4\n"
     ]
    },
    {
     "name": "stdout",
     "output_type": "stream",
     "text": [
      "Enter any number or 0 to exit\n"
     ]
    },
    {
     "name": "stdin",
     "output_type": "stream",
     "text": [
      "Enter a number 0\n"
     ]
    }
   ],
   "source": [
    "# when we not sure about the number of iterations beforehand,need to run a loop until it meets an condition,we use while loop.\n",
    "\n",
    "num = int(input(\"Enter a number\"))\n",
    "while num != 0:\n",
    "    print(\"Enter any number or 0 to exit\")\n",
    "    num = int(input(\"Enter a number\"))\n"
   ]
  },
  {
   "cell_type": "markdown",
   "id": "bf49dbd3-cb73-48c6-8f33-c5c4bccd0347",
   "metadata": {},
   "source": [
    "Q2. Write a python program to print the sum and product of the first 10 natural numbers using for\n",
    "and while loop."
   ]
  },
  {
   "cell_type": "code",
   "execution_count": 3,
   "id": "6285f289-aabd-4695-a96f-3dc9f0861635",
   "metadata": {},
   "outputs": [
    {
     "name": "stdout",
     "output_type": "stream",
     "text": [
      "Sum : 55\n",
      "Product : 3628800\n"
     ]
    }
   ],
   "source": [
    "# Using for loop\n",
    "sum = 0\n",
    "product = 1\n",
    "\n",
    "for i in range(1, 11):\n",
    "    sum += i\n",
    "    product *= i\n",
    "\n",
    "print(\"Sum :\", sum)\n",
    "print(\"Product :\", product)"
   ]
  },
  {
   "cell_type": "code",
   "execution_count": 5,
   "id": "fb23173c-0ec5-4cf9-b34d-d627d2f6c549",
   "metadata": {},
   "outputs": [
    {
     "name": "stdout",
     "output_type": "stream",
     "text": [
      "Sum : 45\n",
      "Product : 362880\n"
     ]
    }
   ],
   "source": [
    "# Using while loop\n",
    "sum = 0\n",
    "product = 1\n",
    "n = 1\n",
    "\n",
    "while n < 10 :\n",
    "    sum += n\n",
    "    product *= n\n",
    "    n += 1\n",
    "print(\"Sum :\", sum)\n",
    "print(\"Product :\", product)"
   ]
  },
  {
   "cell_type": "markdown",
   "id": "d929f507-c2fa-4277-adb3-5271e1c15b9c",
   "metadata": {},
   "source": [
    "Q3. Create a python program to compute the electricity bill for a household.\n",
    "The per-unit charges in rupees are as follows: For the first 100 units, the user will be charged Rs. 4.5 per\n",
    "unit, for the next 100 units, the user will be charged Rs. 6 per unit, and for the next 100 units, the user will\n",
    "be charged Rs. 10 per unit, After 300 units and above the user will be charged Rs. 20 per unit.\n",
    "\n",
    "You are required to take the units of electricity consumed in a month from the user as input.\n",
    "\n",
    "Your program must pass this test case: when the unit of electricity consumed by the user in a month is\n",
    "310, the total electricity bill should be 2250."
   ]
  },
  {
   "cell_type": "code",
   "execution_count": 9,
   "id": "9b633fa5-da08-47a8-b295-a4731bd51c69",
   "metadata": {},
   "outputs": [
    {
     "name": "stdin",
     "output_type": "stream",
     "text": [
      "Enter Unit consumption 310\n"
     ]
    },
    {
     "name": "stdout",
     "output_type": "stream",
     "text": [
      "The total electricity bill = 2250.0\n"
     ]
    }
   ],
   "source": [
    "unit_consumed = int(input(\"Enter Unit consumption\"))\n",
    "\n",
    "if unit_consumed <= 100:\n",
    "    total_bill = unit_consumed * 4.5\n",
    "elif unit_consumed <= 200:\n",
    "    total_bill = (100 * 4.5) + (unit_consumed -100)*6\n",
    "elif unit_consumed <= 300:\n",
    "    total_bill = (100 * 4.5) + (100 * 6) + (unit_consumed -200)*10\n",
    "else:\n",
    "    total_bill = (100 * 4.5) + (100 * 6) + (100*10) + (unit_consumed -300)*20\n",
    "\n",
    "print(f\"The total electricity bill = {total_bill}\")"
   ]
  },
  {
   "cell_type": "markdown",
   "id": "ed83e1a0-c0ab-4327-b067-adb6700e2fdb",
   "metadata": {},
   "source": [
    "Q4. Create a list of numbers from 1 to 100. Use for loop and while loop to calculate the cube of each\n",
    "number and if the cube of that number is divisible by 4 or 5 then append that number in a list and print\n",
    "that list."
   ]
  },
  {
   "cell_type": "code",
   "execution_count": 10,
   "id": "171fa7ea-0a73-4c81-999c-f6fe1eb84d33",
   "metadata": {},
   "outputs": [
    {
     "name": "stdout",
     "output_type": "stream",
     "text": [
      "[2, 4, 5, 6, 8, 10, 12, 14, 15, 16, 18, 20, 22, 24, 25, 26, 28, 30, 32, 34, 35, 36, 38, 40, 42, 44, 45, 46, 48, 50, 52, 54, 55, 56, 58, 60, 62, 64, 65, 66, 68, 70, 72, 74, 75, 76, 78, 80, 82, 84, 85, 86, 88, 90, 92, 94, 95, 96, 98, 100]\n"
     ]
    }
   ],
   "source": [
    "# Using for loop\n",
    "l1 = list(range(1,101))\n",
    "final_list = []\n",
    "for item in l1:\n",
    "    cube = item ** 3\n",
    "    if cube % 4 == 0 or cube % 5 == 0:\n",
    "        final_list.append(item)\n",
    "print(final_list)"
   ]
  },
  {
   "cell_type": "code",
   "execution_count": 2,
   "id": "a7250b92-d9d6-4f6b-a1db-e47c9b810136",
   "metadata": {},
   "outputs": [
    {
     "name": "stdout",
     "output_type": "stream",
     "text": [
      "[2, 4, 5, 6, 8, 10, 12, 14, 15, 16, 18, 20, 22, 24, 25, 26, 28, 30, 32, 34, 35, 36, 38, 40, 42, 44, 45, 46, 48, 50, 52, 54, 55, 56, 58, 60, 62, 64, 65, 66, 68, 70, 72, 74, 75, 76, 78, 80, 82, 84, 85, 86, 88, 90, 92, 94, 95, 96, 98, 100]\n"
     ]
    }
   ],
   "source": [
    "# Using while loop\n",
    "final_list = []\n",
    "i = 1\n",
    "while i < 101 :\n",
    "    cube = i ** 3\n",
    "    if cube % 4 == 0 or cube % 5 == 0:\n",
    "        final_list.append(i)\n",
    "    i +=1\n",
    "print(final_list)"
   ]
  },
  {
   "cell_type": "markdown",
   "id": "83992e12-3222-40a2-945f-9f7e1707e8b0",
   "metadata": {},
   "source": [
    "Q5. Write a program to filter count vowels in the below-given string.\n",
    "string = \"I want to become a data scientist\""
   ]
  },
  {
   "cell_type": "code",
   "execution_count": 8,
   "id": "17fdd9d6-ef84-427e-afc9-a9e2c3bddf40",
   "metadata": {},
   "outputs": [
    {
     "name": "stdout",
     "output_type": "stream",
     "text": [
      "vowels count : 12\n"
     ]
    }
   ],
   "source": [
    "string = \"I want to become a data scientist\"\n",
    "vowels = ['a','e','i','o','u']\n",
    "count = 0\n",
    "for char in string:\n",
    "    if char.lower() in vowels:\n",
    "        count +=1\n",
    "print(f\"vowels count : {count}\")\n"
   ]
  }
 ],
 "metadata": {
  "kernelspec": {
   "display_name": "Python 3 (ipykernel)",
   "language": "python",
   "name": "python3"
  },
  "language_info": {
   "codemirror_mode": {
    "name": "ipython",
    "version": 3
   },
   "file_extension": ".py",
   "mimetype": "text/x-python",
   "name": "python",
   "nbconvert_exporter": "python",
   "pygments_lexer": "ipython3",
   "version": "3.12.6"
  }
 },
 "nbformat": 4,
 "nbformat_minor": 5
}
